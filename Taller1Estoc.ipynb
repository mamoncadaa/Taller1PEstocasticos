{
  "nbformat": 4,
  "nbformat_minor": 0,
  "metadata": {
    "colab": {
      "name": "Taller1Estoc.ipynb",
      "provenance": []
    },
    "kernelspec": {
      "name": "python3",
      "display_name": "Python 3"
    },
    "language_info": {
      "name": "python"
    }
  },
  "cells": [
    {
      "cell_type": "code",
      "source": [
        "pip install tabulate"
      ],
      "metadata": {
        "colab": {
          "base_uri": "https://localhost:8080/"
        },
        "id": "xRGOhoKb9OfI",
        "outputId": "9b53f98e-9fcd-4c42-d411-be39fe2bd193"
      },
      "execution_count": 36,
      "outputs": [
        {
          "output_type": "stream",
          "name": "stdout",
          "text": [
            "Requirement already satisfied: tabulate in /usr/local/lib/python3.7/dist-packages (0.8.9)\n"
          ]
        }
      ]
    },
    {
      "cell_type": "code",
      "source": [
        "from tabulate import tabulate\n",
        "import numpy as np\n",
        "import pandas as pd\n",
        "import random\n",
        "from random import seed\n",
        "from random import random\n",
        "import matplotlib.pyplot as plt"
      ],
      "metadata": {
        "id": "7zTEfCD1z_pm"
      },
      "execution_count": 37,
      "outputs": []
    },
    {
      "cell_type": "code",
      "execution_count": 22,
      "metadata": {
        "id": "RcxRNkRcrRZm"
      },
      "outputs": [],
      "source": [
        "def matrixTransicion (n):\n",
        "\n",
        "  Pij = np.zeros((n,n))\n",
        "  est = []\n",
        "  for i in range (n):\n",
        "    est.append(i)\n",
        "    if (i == 0):\n",
        "      Pij[i][i+1] = 1/2\n",
        "      Pij[i][n-1] = 1/2\n",
        "    elif (i == (n-1)):\n",
        "      Pij[i][0] = 1/2\n",
        "      Pij[i][i-1] = 1/2\n",
        "    else:\n",
        "      Pij[i][i+1] = 1/2\n",
        "      Pij[i][i-1] = 1/2\n",
        "  return Pij, est"
      ]
    },
    {
      "cell_type": "code",
      "source": [
        "def pasos(Pij,states,n):\n",
        "\n",
        "  pr = 0\n",
        "  no = True\n",
        "\n",
        "  visitado = np.zeros(n)\n",
        "  visitado[0] = 1\n",
        "  cont = 0\n",
        "\n",
        "  while no:\n",
        "    cont = cont+1\n",
        "    Pi = Pij [pr]\n",
        "    sig = np.random.choice(states, p = Pi)\n",
        "    pr = sig\n",
        "    visitado[pr] = visitado[pr] + 1\n",
        "    if not (0 in visitado):\n",
        "      no = False\n",
        "  \n",
        "  return cont"
      ],
      "metadata": {
        "id": "rk-Vn8_N3m38"
      },
      "execution_count": 26,
      "outputs": []
    },
    {
      "cell_type": "code",
      "source": [
        "I = 100\n",
        "N0 = 3\n",
        "N = 20\n",
        "Tabla = np.zeros((N-N0,4))\n",
        "for n in range(N0,N):\n",
        "  teorico = n*(n-1)/2\n",
        "  sum = 0\n",
        "  for i in range(I):\n",
        "     Pij, est = matrixTransicion(n)\n",
        "     a = pasos(Pij,est, n)\n",
        "     sum = sum + a\n",
        "  simulado = sum/I\n",
        "  Tabla[n-N][0]=n\n",
        "  Tabla[n-N][1]=teorico\n",
        "  Tabla[n-N][2]=simulado\n",
        "  Tabla[n-N][3]=abs((teorico-simulado))\n",
        "\n",
        "print(tabulate(Tabla, headers=['Tamaño de la cadena', 'Tcub teórico', 'Tcub simulado','Error']))\n"
      ],
      "metadata": {
        "colab": {
          "base_uri": "https://localhost:8080/"
        },
        "id": "rzXss0Tirfd-",
        "outputId": "ac089c80-2cab-4085-972b-d6996d4c2dcc"
      },
      "execution_count": 38,
      "outputs": [
        {
          "output_type": "stream",
          "name": "stdout",
          "text": [
            "  Tamaño de la cadena    Tcub teórico    Tcub simulado    Error\n",
            "---------------------  --------------  ---------------  -------\n",
            "                    3               3             3.09     0.09\n",
            "                    4               6             6.32     0.32\n",
            "                    5              10            10.27     0.27\n",
            "                    6              15            16.02     1.02\n",
            "                    7              21            19.68     1.32\n",
            "                    8              28            27.61     0.39\n",
            "                    9              36            37.55     1.55\n",
            "                   10              45            41.51     3.49\n",
            "                   11              55            51.44     3.56\n",
            "                   12              66            68.16     2.16\n",
            "                   13              78            76.17     1.83\n",
            "                   14              91            86.87     4.13\n",
            "                   15             105            98.29     6.71\n",
            "                   16             120           123.34     3.34\n",
            "                   17             136           148.07    12.07\n",
            "                   18             153           138.25    14.75\n",
            "                   19             171           165.28     5.72\n"
          ]
        }
      ]
    }
  ]
}